{
 "cells": [
  {
   "cell_type": "code",
   "execution_count": null,
   "metadata": {},
   "outputs": [],
   "source": [
    "# Name: Ankush Shukla   e-mail: ankushshukla0612@gmail.com \n",
    "# Python_Basic_Assignment_4"
   ]
  },
  {
   "cell_type": "code",
   "execution_count": null,
   "metadata": {},
   "outputs": [],
   "source": [
    "#Question_1: What exactly is []?"
   ]
  },
  {
   "cell_type": "code",
   "execution_count": null,
   "metadata": {},
   "outputs": [],
   "source": [
    "#Answer: \n",
    "\"\"\" This is an empty list.\"\"\""
   ]
  },
  {
   "cell_type": "code",
   "execution_count": null,
   "metadata": {},
   "outputs": [],
   "source": [
    "#Question_2: In a list of values stored in a variable called spam, how would you assign the value 'hello' as the\n",
    "#            third value? (Assume [2, 4, 6, 8, 10] are in spam.)"
   ]
  },
  {
   "cell_type": "code",
   "execution_count": null,
   "metadata": {},
   "outputs": [],
   "source": [
    "#answer:\n",
    "\n",
    "spam= [2, 4, 6, 8, 10]\n",
    "\n",
    "spam[2] = 'hello'\n",
    "\n",
    "print(spam)"
   ]
  },
  {
   "cell_type": "code",
   "execution_count": null,
   "metadata": {},
   "outputs": [],
   "source": [
    "#    Let's pretend the spam includes the list ['a', 'b', 'c', 'd'] for the next three queries."
   ]
  },
  {
   "cell_type": "code",
   "execution_count": null,
   "metadata": {},
   "outputs": [],
   "source": [
    "#Question_3:  What is the value of spam[int(int('3' * 2) / 11)]?"
   ]
  },
  {
   "cell_type": "code",
   "execution_count": null,
   "metadata": {},
   "outputs": [],
   "source": [
    "#Answer: \n",
    "spam = ['a', 'b', 'c', 'd']\n",
    "a = spam[int(int('3' * 2) / 11)]\n",
    "print(a)\n",
    "        \n",
    "# Answer is 'd'."
   ]
  },
  {
   "cell_type": "code",
   "execution_count": null,
   "metadata": {},
   "outputs": [],
   "source": [
    "#Question_4:  What is the value of spam[-1]?"
   ]
  },
  {
   "cell_type": "code",
   "execution_count": null,
   "metadata": {},
   "outputs": [],
   "source": [
    "#Answer: \n",
    "\n",
    "b = spam[-1]\n",
    "print(b)\n",
    "\n",
    "#answer is 'd'."
   ]
  },
  {
   "cell_type": "code",
   "execution_count": null,
   "metadata": {},
   "outputs": [],
   "source": [
    "#Question_5:  What is the value of spam[:2]?"
   ]
  },
  {
   "cell_type": "code",
   "execution_count": null,
   "metadata": {},
   "outputs": [],
   "source": [
    "c= spam[:2]\n",
    "print(c)"
   ]
  },
  {
   "cell_type": "code",
   "execution_count": null,
   "metadata": {},
   "outputs": [],
   "source": [
    "# Let's pretend bacon has the list [3.14, 'cat', 11, 'cat', True] for the next three questions."
   ]
  },
  {
   "cell_type": "code",
   "execution_count": null,
   "metadata": {},
   "outputs": [],
   "source": [
    "#Question_6:  What is the value of bacon.index('cat')?"
   ]
  },
  {
   "cell_type": "code",
   "execution_count": null,
   "metadata": {},
   "outputs": [],
   "source": [
    "#Answer: \n",
    "\n",
    "bacon = [3.14, 'cat', 11, 'cat', True]\n",
    "\n",
    "bacon.index('cat')"
   ]
  },
  {
   "cell_type": "code",
   "execution_count": null,
   "metadata": {},
   "outputs": [],
   "source": [
    "#Question_7:  How does bacon.append(99) change the look of the list value in bacon?"
   ]
  },
  {
   "cell_type": "code",
   "execution_count": null,
   "metadata": {},
   "outputs": [],
   "source": [
    "#Answer: \n",
    "\n",
    "bacon = [3.14, 'cat', 11, 'cat', True]\n",
    "bacon.append(99)\n",
    "\n",
    "print(bacon)"
   ]
  },
  {
   "cell_type": "code",
   "execution_count": null,
   "metadata": {},
   "outputs": [],
   "source": [
    "#Question_8:  How does bacon.remove('cat') change the look of the list in bacon?"
   ]
  },
  {
   "cell_type": "code",
   "execution_count": null,
   "metadata": {},
   "outputs": [],
   "source": [
    "#answer: The remove() method in Python is used to remove the first occurrence of a specified value from a list.\n",
    "\n",
    "bacon = [3.14, 'cat', 11, 'cat', True]\n",
    "bacon.remove('cat')\n",
    "\n",
    "print(bacon)"
   ]
  },
  {
   "cell_type": "code",
   "execution_count": null,
   "metadata": {},
   "outputs": [],
   "source": [
    "#Question_9:  What are the list concatenation and list replication operators?"
   ]
  },
  {
   "cell_type": "code",
   "execution_count": null,
   "metadata": {},
   "outputs": [],
   "source": [
    "#answer:\n",
    "\n",
    "\"\"\"\n",
    "List Concatenation (+): The + operator is used to combine two or more lists into a single list.\n",
    "\n",
    "List Replication (*): The * operator is used to create a new list by replicating the elements of an existing list a certain number of times.\n",
    "\n",
    "\"\"\""
   ]
  },
  {
   "cell_type": "code",
   "execution_count": null,
   "metadata": {},
   "outputs": [],
   "source": [
    "#Question_10: What is difference between the list methods append() and insert()?"
   ]
  },
  {
   "cell_type": "code",
   "execution_count": null,
   "metadata": {},
   "outputs": [],
   "source": [
    "#answer:\n",
    "\"\"\"\n",
    "append() Method:\n",
    "\n",
    "The append() method is used to add an element to the end of a list.\n",
    "It takes a single argument, which is the element to be added, and appends it to the end of the list.\n",
    "It does not require specifying an index for insertion because it always adds the element at the end.\n",
    "\n",
    "\n",
    "\n",
    "insert() Method:\n",
    "\n",
    "The insert() method is used to add an element at a specific index within the list.\n",
    "It takes two arguments, the first argument is the index at which you want to insert the element, \n",
    "and the second argument is the element you want to insert.\n",
    "\n",
    "\"\"\""
   ]
  },
  {
   "cell_type": "code",
   "execution_count": null,
   "metadata": {},
   "outputs": [],
   "source": [
    "#Question_11:  What are the two methods for removing items from a list?"
   ]
  },
  {
   "cell_type": "code",
   "execution_count": null,
   "metadata": {},
   "outputs": [],
   "source": [
    "#Answer: \n",
    "\n",
    "\"\"\"\n",
    "remove() and pop() are the two methods for removing items from a list.\n",
    "\"\"\""
   ]
  },
  {
   "cell_type": "code",
   "execution_count": null,
   "metadata": {},
   "outputs": [],
   "source": [
    "#Question_12:  Describe how list values and string values are identical.  "
   ]
  },
  {
   "cell_type": "code",
   "execution_count": null,
   "metadata": {},
   "outputs": [],
   "source": [
    "#Answer:\n",
    "\"\"\"\n",
    "List and string values are similar in ways which are\n",
    "\n",
    "1. Sequential Data: Both lists and strings are sequential data structures, \n",
    "                    which means they organize and store their elements in a specific order.\n",
    "\n",
    "2. Indexing: Both lists and strings support indexing to access individual elements.\n",
    "\n",
    "3. Slicing: Both lists and strings support slicing, which allows you to extract \n",
    "            a portion of the sequence by specifying a range of indices.\n",
    "\n",
    "\"\"\""
   ]
  },
  {
   "cell_type": "code",
   "execution_count": null,
   "metadata": {},
   "outputs": [],
   "source": [
    "#Question_13:  How do you type a tuple value that only contains the integer 42?"
   ]
  },
  {
   "cell_type": "code",
   "execution_count": null,
   "metadata": {},
   "outputs": [],
   "source": [
    "#Answer:\n",
    "\n",
    "#   my_tuple = (42,)\n",
    "\n",
    "# make sure to use coma (,) afetr 42 otherwise python will not consider is as a single element in tuple."
   ]
  },
  {
   "cell_type": "code",
   "execution_count": null,
   "metadata": {},
   "outputs": [],
   "source": [
    "#Question_14: What is the difference between tuples and lists?"
   ]
  },
  {
   "cell_type": "code",
   "execution_count": null,
   "metadata": {},
   "outputs": [],
   "source": [
    "#Answer:\n",
    "\n",
    "\"\"\"\n",
    " list are mutable and tuples are immutable.\n",
    "\n",
    " list are defined by using elements in [] and tuples are defined by using elements in ().\n",
    "\n",
    " list are less memory efficient and slow initeration as comapre to tuples. \n",
    "\n",
    "\"\"\""
   ]
  },
  {
   "cell_type": "code",
   "execution_count": null,
   "metadata": {},
   "outputs": [],
   "source": [
    "#Question_15:  How do you get a list value's tuple form? How do you get a tuple value's list form?"
   ]
  },
  {
   "cell_type": "code",
   "execution_count": null,
   "metadata": {},
   "outputs": [],
   "source": [
    "#Answer:\n",
    "#to get tuple from list\n",
    "\"\"\"\n",
    "a = [1, 2, 3]\n",
    "b = tuple(a)\n",
    "print(b)\n",
    "\"\"\""
   ]
  },
  {
   "cell_type": "code",
   "execution_count": null,
   "metadata": {},
   "outputs": [],
   "source": [
    "#to get list from tuple\n",
    "\n",
    "\"\"\"\n",
    "my_tuple = (4, 5, 6)\n",
    "my_list = list(my_tuple)\n",
    "print(my_list)\n",
    "\"\"\""
   ]
  },
  {
   "cell_type": "code",
   "execution_count": null,
   "metadata": {},
   "outputs": [],
   "source": [
    "#Question_16:  Variables that "contain" list values are not necessarily lists themselves. Instead, what do they\n",
    "#              contain?"
   ]
  },
  {
   "cell_type": "code",
   "execution_count": null,
   "metadata": {},
   "outputs": [],
   "source": [
    "#Answer:\n",
    "\n",
    "\"\"\"They contain references or pointers to the list data stored in memory.\"\"\""
   ]
  },
  {
   "cell_type": "code",
   "execution_count": null,
   "metadata": {},
   "outputs": [],
   "source": [
    "#Question_17:  How do you distinguish between copy.copy() and copy.deepcopy()?"
   ]
  },
  {
   "cell_type": "code",
   "execution_count": null,
   "metadata": {},
   "outputs": [],
   "source": [
    "#Answer:\n",
    "\n",
    "\"\"\" The main distinction between copy.copy() and copy.deepcopy() is the level of copying they perform:\n",
    "\n",
    "1. copy.copy() creates a shallow copy, preserving references to nested objects.\n",
    "2. copy.deepcopy() creates a deep copy, creating entirely independent copies of the object and all nested objects, \n",
    "   ensuring that changes do not propagate back to the original.\n",
    "\n",
    "\"\"\""
   ]
  },
  {
   "cell_type": "code",
   "execution_count": null,
   "metadata": {},
   "outputs": [],
   "source": []
  }
 ],
 "metadata": {
  "language_info": {
   "name": "python"
  }
 },
 "nbformat": 4,
 "nbformat_minor": 2
}
